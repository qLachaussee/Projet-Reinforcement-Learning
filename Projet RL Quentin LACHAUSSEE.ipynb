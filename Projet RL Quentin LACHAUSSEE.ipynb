{
 "cells": [
  {
   "cell_type": "markdown",
   "id": "f92612e7",
   "metadata": {},
   "source": [
    "# Projet ML"
   ]
  },
  {
   "cell_type": "markdown",
   "id": "8d7bcda3",
   "metadata": {},
   "source": [
    "## 1 - Réalisation d’un algorithme de Q learning"
   ]
  },
  {
   "cell_type": "markdown",
   "id": "f2e7b2bc",
   "metadata": {},
   "source": [
    "## On importe les librairies nécessaires"
   ]
  },
  {
   "cell_type": "code",
   "execution_count": 1,
   "id": "dcecfe69",
   "metadata": {},
   "outputs": [],
   "source": [
    "import pandas as pd\n",
    "import matplotlib.pyplot as plt\n",
    "import numpy as np\n",
    "from math import log\n",
    "from random import randint\n",
    "from tqdm import tqdm\n",
    "from tkinter import *"
   ]
  },
  {
   "cell_type": "markdown",
   "id": "fdc8dd65",
   "metadata": {},
   "source": [
    "## On crée les fonctions permettant le Q-Learning"
   ]
  },
  {
   "cell_type": "code",
   "execution_count": 2,
   "id": "c07c5d74",
   "metadata": {},
   "outputs": [],
   "source": [
    "def instanciate_Q(env: list):\n",
    "    \"\"\"\n",
    "    Instancier Q\n",
    "    va initialiser le DataFrame Q en fonction de l'environnement de jeux passé en paramètres\n",
    "\n",
    "    :param env: environnement de jeux case par case, sous form de matrice transformé en liste\n",
    "    :type env: liste\n",
    "    :return Q: la politique du jeux selon la case et l'action (1 case = 1 ligne | 1 action = 1 colonne)\n",
    "    :rtype Q: DataFrame\n",
    "    \"\"\"\n",
    "\n",
    "    # on définit l'espace de l'environnement de jeux\n",
    "    state_space = [x for x in range(len(env[0])*len(env))]\n",
    "    # on lui ajoute une clé de correspondance\n",
    "    state_key = [1 for x in range(len(env[0])*len(env))]\n",
    "    # on crée un premier DataFrame correspondant à chaque case du jeu (son état)\n",
    "    state_space_pd = pd.DataFrame({'key': state_key,'state':state_space})\n",
    "\n",
    "    # on définit les actions possibles dans le jeux\n",
    "    action_space = [x for x in range(4)]\n",
    "    # on lui ajoute une clé de correspondance\n",
    "    action_key = [1 for x in range(4)]\n",
    "    # on crée un deuxième DataFrame correspondant à chaque action du jeu\n",
    "    action_space_pd = pd.DataFrame({'key':action_key, 'action':action_space})\n",
    "\n",
    "    # on merge les 2 DataFrame en faisant un produit cartésien entre les états et les actions\n",
    "    Q = pd.merge(state_space_pd, action_space_pd, on='key')\n",
    "    # on initialise toutes les valeurs à 0\n",
    "    Q[\"q_value\"] = 0\n",
    "\n",
    "    # on retourne la politique par défaut\n",
    "    return Q\n",
    "\n",
    "def epsilon_greedy(Q: pd.DataFrame, epsilon: float, state: int, first_win: bool):\n",
    "    \"\"\"\n",
    "    Epsilon Greedy\n",
    "    va renforcer l'exploration\n",
    "    en choisissant une action choisie ou au hasard entre 0 et 4 selon :\n",
    "        0 : déplacement vers le haut \n",
    "        1 : déplacement vers la droite \n",
    "        2 : déplacement vers le bas \n",
    "        3 : déplacement vers la gauche \n",
    "\n",
    "    :param Q: la politique actuelle du jeux\n",
    "    :type Q: DataFrame\n",
    "    :param epsilon: probabilité d'apprentissage\n",
    "    :type epsilon: float\n",
    "    :param state: état actuel\n",
    "    :type state: int\n",
    "    :param first_win: spécifier si l'on veut arreter à la première victoire ou si l'on veut permettre de recommencer pour trouver un plus court chemin\n",
    "    :param first_win: bool\n",
    "    :return chosen_action: action choisie\n",
    "    :rtype chosen_action: int\n",
    "    \"\"\"\n",
    "\n",
    "    # si le but est de gagner\n",
    "    if first_win:\n",
    "        random_action = 1\n",
    "    else:\n",
    "        # on choisit une action pour trouver le plus court chemin selon :\n",
    "            # Au hasard avec une probabilité \"epsilon\"\n",
    "            # La meilleure avec une probabilité \"1-epsilon\"\n",
    "        random_action = np.random.choice((0, 1), p=[epsilon, (1 - epsilon)])\n",
    "        \n",
    "    # soit simplement avec une fonction random\n",
    "    if random_action == 0:\n",
    "        chosen_action = randint(0,3)\n",
    "    \n",
    "    # soit en prenant la meilleure action qui fut faite dans le passé\n",
    "    else:\n",
    "        # on prépare le filtre de sélection en fonction de l’état actuel\n",
    "        select_current_state = (Q[\"state\"] == state)\n",
    "\n",
    "        # on récupère la valeur max\n",
    "        value_max = np.max(Q[select_current_state][\"q_value\"])\n",
    "\n",
    "        # on prépare le filtre de sélection en fonction de la valeur max\n",
    "        select_max_reward = (Q[\"q_value\"] == value_max)\n",
    "\n",
    "        # si plusieurs action donnent la valeur max, alors on en choisit une au hasard\n",
    "        chosen_action = np.random.choice(Q[select_current_state & select_max_reward][\"action\"])\n",
    "\n",
    "    # on retourne l'action choisie\n",
    "    return chosen_action\n",
    "\n",
    "def Q_learning(Q: pd.DataFrame, alpha: float, state: int, reward: int, chosen_action: int, next_state: int, lambda_: float):\n",
    "    \"\"\"\n",
    "    Q learning\n",
    "    va pour modifier la politique\n",
    "\n",
    "    :param Q: la politique actuelle du jeux\n",
    "    :type Q: DataFrame\n",
    "    :param alpha: coefficient d'apprentissage\n",
    "    :type alpha: float\n",
    "    :param state: état actuel\n",
    "    :type state: int\n",
    "    :param reward: récompense\n",
    "    :type reward: int\n",
    "    :param chosen_action: action choisie\n",
    "    :type chosen_action: int\n",
    "    :param next_state: prochain état\n",
    "    :type next_state: int\n",
    "    :param lambda_: récompense future\n",
    "    :type lambda_: float\n",
    "    :return Q: la nouvelle politique du jeux selon alpha, lambda, le statut et l'action\n",
    "    :rtype Q: DataFrame\n",
    "    \"\"\"\n",
    "\n",
    "    # on prépare les filtres de sélection en fonction de l’état actuel, l’état suivant et l’action choisie\n",
    "    select_current_state = (Q[\"state\"] == state)\n",
    "    select_next_state = (Q[\"state\"] == next_state)\n",
    "    select_chosen_action = (Q[\"action\"] == chosen_action)\n",
    "\n",
    "    # on va chercher la valeur de la politique de l'etat actuel et de l'action choisie\n",
    "    current_Q_value = Q.loc[select_current_state & select_chosen_action, \"q_value\"]\n",
    "\n",
    "    # on calcul l'estimation de la politique \n",
    "    estimate_Q_value = reward + lambda_ * np.max(Q.loc[select_next_state, \"q_value\"])\n",
    "    \n",
    "    # on met à jour la politique actuelle par l'estimation\n",
    "    new_Q_value = current_Q_value + alpha * (estimate_Q_value - current_Q_value)\n",
    "    Q.loc[select_current_state & select_chosen_action, \"q_value\"] = new_Q_value\n",
    "\n",
    "    # on retourne la nouvelle politique\n",
    "    return Q\n",
    "\n",
    "def play(env: list, alpha: float, lambda_: float, nb_game: int, first_win: bool):\n",
    "    \"\"\"\n",
    "    Play\n",
    "    va jouer un nombre de partie pour apprendre comment gagner au mieux\n",
    "\n",
    "    :param env: environnement de jeux case par case, sous form de matrice transformé en liste\n",
    "    :type env: liste\n",
    "    :param alpha: coefficient d'apprentissage\n",
    "    :type alpha: float\n",
    "    :param lambda_: récompense future\n",
    "    :type lambda_: float\n",
    "    :param nb_game: nombre de partie à jouer\n",
    "    :type nb_game: int\n",
    "    :param first_win: spécifier si l'on veut arreter à la première victoire ou si l'on veut permettre de recommencer pour trouver un plus court chemin\n",
    "    :param first_win: bool\n",
    "    :return Q: la politique du jeux selon la case et l'action (1 case = 1 ligne | 1 action = 1 colonne)\n",
    "    :rtype Q: DataFrame\n",
    "    :return resultats: l'ensemble des coups effectués par l'apprentissage\n",
    "    :rtype resultats: DataFrame\n",
    "    \"\"\"\n",
    "\n",
    "    ################\n",
    "    # Instancation #\n",
    "    ################\n",
    "\n",
    "    wall_reward = -4\n",
    "    action_reward = 1\n",
    "    dragon_reward = -5\n",
    "    win_reward = 100\n",
    "    undo_reward = -1\n",
    "    \n",
    "    # on instancie les recompenses du plateau selon l'environnement de jeu\n",
    "    plateau = [char for char in \"\".join(env)]\n",
    "    plateau = [0 if x==\"S\" else x for x in plateau] # S pour \"start\"\n",
    "    plateau = [action_reward if x==\"R\" else x for x in plateau] # R pour \"rien\"\n",
    "    plateau = [dragon_reward if x==\"D\" else x for x in plateau] # D pour \"dragon\"\n",
    "    plateau = [win_reward if x==\"E\" else x for x in plateau] # E pour \"end\"\n",
    "\n",
    "    # on instancie le nombre de colonne et de ligne selon l'environnement de jeu\n",
    "    nb_colonne = len(env[0])\n",
    "    nb_ligne = len(env)\n",
    "\n",
    "    # on instancie la politique de jeu par défaut (0)\n",
    "    Q = instanciate_Q(env)\n",
    "\n",
    "    # on instancie le DataFrame de resultats avec chaque étape correspond à 1 ligne\n",
    "    resultats = pd.DataFrame(columns=['game','step','done','state','action','next_state','reward'])\n",
    "\n",
    "    ##############\n",
    "    # Traitement # \n",
    "    ##############\n",
    "\n",
    "    # Boucle d’apprentissage (exploration mode) selon le nombre de partie\n",
    "    for game in tqdm(range(nb_game)):\n",
    "        \n",
    "        # on (re)initialise epsilon\n",
    "        epsilon = nb_game/(nb_game+game)\n",
    "        # on (re)initialise le fait d'être mort ou arrivé\n",
    "        done = False\n",
    "        # on (re)initialise le numéro de l'étape\n",
    "        step=0\n",
    "        # on (re)initialise l'état\n",
    "        state = 0\n",
    "        # on initialise l'état précedent\n",
    "        previous_state = [0]\n",
    "        \n",
    "        \n",
    "        # tant qu'on est pas mort ou arrivé\n",
    "        while not done:\n",
    "            \n",
    "            # Choisir une action avec une politique ecploration - renforcement : Epsilon greedy\n",
    "            action = epsilon_greedy(Q, epsilon, state, first_win)\n",
    "            \n",
    "            # on initialise la première récompense\n",
    "            reward = action_reward\n",
    "                    \n",
    "            # L'envoyer à l'environnement et récupérer la réponse selon la possibilité ou non du mouvement (effet de bord)\n",
    "            if action == 1 and state%(nb_colonne) != nb_colonne-1:\n",
    "                next_state = state + 1\n",
    "            elif action == 3 and state%nb_colonne != 0:\n",
    "                next_state = state - 1\n",
    "            elif action == 0 and state >= nb_colonne:\n",
    "                next_state = state - nb_colonne\n",
    "            elif action == 2 and state <= nb_ligne * nb_colonne - 1 - nb_colonne:\n",
    "                next_state = state + nb_colonne\n",
    "            else:\n",
    "                next_state = state\n",
    "                reward = wall_reward\n",
    "\n",
    "            if next_state in previous_state:\n",
    "                reward = undo_reward\n",
    "                if next_state==previous_state[-1]:\n",
    "                    next_state=state\n",
    "\n",
    "            # si l'action était bien possible\n",
    "            if reward == action_reward:\n",
    "                # on va chercher la récompense du prochain état\n",
    "                reward = plateau[next_state]\n",
    "            \n",
    "            # si on est tombé sur une récompense dragon ou de victoire\n",
    "            if reward==dragon_reward or reward==win_reward:\n",
    "                # c'est que la partie est finie\n",
    "                done = True\n",
    "            \n",
    "            # on apprend de cette experience\n",
    "            Q = Q_learning(Q, alpha, state, reward, action, next_state, lambda_)\n",
    "            \n",
    "            # on enregistre les résultats\n",
    "            resultats = resultats.append({'game': game,\n",
    "                                        'step' : step,\n",
    "                                        'done' : done,\n",
    "                                        'state': state,\n",
    "                                        'action': action,\n",
    "                                        'next_state': next_state,\n",
    "                                        'reward' : reward,}, ignore_index=True)\n",
    "            \n",
    "            # on incrémente l'étape\n",
    "            step +=1\n",
    "            # on garde en mémoire l'etat\n",
    "            previous_state.append(state)\n",
    "            # on affecte le nouvel état à l'ancien\n",
    "            state = next_state\n",
    "            \n",
    "            if reward==win_reward and first_win==True:\n",
    "                print(\"Done\")\n",
    "                return Q, resultats\n",
    "    \n",
    "    # on retourne la politique et les resultats\n",
    "    return Q, resultats"
   ]
  },
  {
   "cell_type": "markdown",
   "id": "9dd62157",
   "metadata": {},
   "source": [
    "## On crée les fonctions permettant d'afficher les resultats sous forme de :\n",
    "* ### Courbe de réussite \n",
    "* ### Historique d'étape sur un plateau de jeux"
   ]
  },
  {
   "cell_type": "code",
   "execution_count": 3,
   "id": "fdc79914",
   "metadata": {},
   "outputs": [],
   "source": [
    "def show_resultats(resultats: pd.DataFrame):\n",
    "    \"\"\"\n",
    "    Show resultats\n",
    "    va afficher la réussite moyenne selon un groupe de partie de taille passée en paramètre\n",
    "\n",
    "    :param resultats: l'ensemble des des coups effectué par l'apprentissage\n",
    "    :type resultats: DataFrame\n",
    "    :return resultats: l'ensemble des moyenne de récompense par groupe de partie\n",
    "    :rtype resultats: list\n",
    "    \"\"\"\n",
    "    \n",
    "    # on regroupe les resultats par partie pour compter le nombre d'étape de chacun avant la fin\n",
    "    game_results_step = resultats.groupby(\"game\").count().step\n",
    "    # on regroupe les resultats par partie avoir la récompense finale\n",
    "    game_results_reward = resultats.groupby(\"game\").sum().reward\n",
    "\n",
    "    # on affiche les 2 series\n",
    "    fig, ax = plt.subplots()\n",
    "    ax.plot(game_results_step, '-b', label='Nb Partie')\n",
    "    ax.plot(game_results_reward, '--r', label='Récompense')\n",
    "    leg = ax.legend(loc='upper left', frameon=True);\n",
    "    plt.show()\n",
    "    \n",
    "    # on identifie une taille des groupe de resultats selon le logarithme néperien\n",
    "    group_size = int(log(len(game_results_reward)))\n",
    "    # on compte le nombre de groupe selon le nombre de partie et la taille des groupes\n",
    "    nb_group = len(game_results_reward)//group_size + 1\n",
    "    # on initialise les resultats\n",
    "    resultats_by_group = list()\n",
    "\n",
    "    # pour chaque groupe de partie, on ajoute la moyenne de ces récompenses finales aux resultats \n",
    "    for i in range(nb_group):\n",
    "        resultats_by_group.append(np.mean(game_results_reward[group_size*i:group_size*(i+1)]))\n",
    "\n",
    "    # on affiche la série \n",
    "    plt.plot(resultats_by_group)\n",
    "    plt.title(f\"Moyenne des resultats par groupe de {group_size}\")\n",
    "    plt.show()\n",
    "    \n",
    "    # on retourne les resultats\n",
    "    return resultats_by_group\n",
    "\n",
    "def show_game(env: list, resultats: pd.DataFrame):\n",
    "    \"\"\"\n",
    "    Show game\n",
    "    va afficher tous les chemins emprunter pour chaque partie\n",
    "\n",
    "    :param env: environnement de jeux case par case, sous form de matrice transformé en liste\n",
    "    :type env: liste\n",
    "    :param resultats: l'ensemble des des coups effectué par l'apprentissage\n",
    "    :type resultats: DataFrame\n",
    "    \"\"\"\n",
    "\n",
    "    # on instancie le visuel du plateau selon l'environnement de jeu\n",
    "    plateau = [char for char in \"\".join(env)]\n",
    "\n",
    "    # on instancie le nombre de colonne et de ligne selon l'environnement de jeu\n",
    "    nb_colonne = len(env[0])\n",
    "    nb_ligne = len(env)\n",
    "\n",
    "    # on crée une fenetre vierge de 1000 pixel de largeur par 500 de hauteur\n",
    "    ma_fenetre = Tk()\n",
    "    ma_fenetre.geometry(f\"1400x700+0+0\")\n",
    "    ma_fenetre.title(\"Plateau\")\n",
    "\n",
    "    # on instancie la taille des cases à 70 pixel de largeur pour 35 de hauteur\n",
    "    case_largeur=70\n",
    "    case_hauteur=35\n",
    "    \n",
    "    # on instancie la zone de dessin selon la taille et le nombre de cases\n",
    "    dessin_largeur=int(case_largeur*nb_colonne)\n",
    "    dessin_hauteur=int(case_hauteur*nb_ligne)\n",
    "\n",
    "    # zone de dessin qu'on incorpore au centre de notre fenetre\n",
    "    zone_dessin = Canvas(ma_fenetre, width=dessin_largeur, height=dessin_hauteur, bg='white')\n",
    "    zone_dessin.place(relx=0.5, rely=0.5, anchor=CENTER)\n",
    "\n",
    "    # on crée un dictionnaire pour attribuer un nombre à chacune de nos cases\n",
    "    dict_rectangle = {}\n",
    "\n",
    "    # k correspond au numero de la case\n",
    "    k=0\n",
    "    # on crée chaque case avec ses paramètres de jeu et son numéro k\n",
    "    for y in range(0, dessin_hauteur, case_hauteur):\n",
    "        for x in range(0, dessin_largeur, case_largeur):\n",
    "            dict_rectangle[k] = zone_dessin.create_rectangle(x,y,x+case_largeur,y+case_hauteur,fill='grey',outline=\"black\")\n",
    "            zone_dessin.create_text((x+(case_largeur/2), y+(case_hauteur/2)), text=plateau[k])\n",
    "            k += 1\n",
    "\n",
    "    # on crée des variables globales pour suivre la mise à jour des chemins sans passer par une boucle for ou while\n",
    "    global i, num_game, nb_case, success\n",
    "    # on incremente le numero du coup, le numero de la partie, le nombre de succès et le nombre de case\n",
    "    i = 0\n",
    "    num_game = 0\n",
    "    success = 0\n",
    "    nb_case = nb_ligne*nb_colonne\n",
    "\n",
    "    # on crée une fonction pour empecher de relancer la fonction run avant qu'elle ne soit terminée\n",
    "    def rien():\n",
    "        return\n",
    "    \n",
    "    # o crée une fonction pour afficher en jaune les cases sur lesquelles on est passées\n",
    "    def run():\n",
    "        # on reprend l'uusage de nos variables globales\n",
    "        global i, num_game, nb_case, success\n",
    "        # si on est aau dernier coup\n",
    "        if i == len(resultats):\n",
    "            return\n",
    "        \n",
    "        # si on est après le premier coup\n",
    "        if i>0:\n",
    "            # si le coup d'avant était une fin de partie alors on affiche toutes les cases en grises\n",
    "            if resultats.done[i-1]==True:\n",
    "                for k in range(1, nb_case):\n",
    "                    zone_dessin.itemconfigure(dict_rectangle[k], fill='grey')\n",
    "        \n",
    "        # on affiche la case jaune\n",
    "        zone_dessin.itemconfigure(dict_rectangle[resultats.state[i]], fill='yellow')\n",
    "        # on affiche le numéro de partie sur la case victorieuse\n",
    "        zone_dessin.itemconfigure(nb_case*2, text=f\"Partie : {num_game}\")       \n",
    "        # si c'est une fin de partie alors on affiche la case suivante en jaune\n",
    "        if resultats.done[i]==True:\n",
    "            zone_dessin.itemconfigure(dict_rectangle[resultats.next_state[i]], fill='yellow') \n",
    "            # si c'est une fin de partie victorieuse alors on incremente la variable succès\n",
    "            if resultats.reward[i]==100:\n",
    "                success += 1\n",
    "                # on affiche sur le bouton Run le nombre de succès\n",
    "                btn.configure(text=f\"Succès : {success}\", command=rien)         \n",
    "\n",
    "        # on re instancie le numéro de partie\n",
    "        num_game = resultats.loc[i,\"game\"]\n",
    "        # on incremente le nmero du coup\n",
    "        i += 1\n",
    "        # on relance la fonction run\n",
    "        zone_dessin.after(1, run) \n",
    "\n",
    "    # on crée un bouton en bas pour lancer l'appercu des parties\n",
    "    btn = Button(ma_fenetre, text=\"Run\", width=dessin_largeur, command=run)\n",
    "    btn.pack(side=BOTTOM, padx=5, pady=5)\n",
    "\n",
    "    # on lance l'affichage de la fenetre\n",
    "    ma_fenetre.mainloop()"
   ]
  },
  {
   "cell_type": "markdown",
   "id": "1634a400",
   "metadata": {},
   "source": [
    "## On test notre algorithme sur l'environnement du projet en 3x3"
   ]
  },
  {
   "cell_type": "code",
   "execution_count": 80,
   "id": "aba75820",
   "metadata": {},
   "outputs": [
    {
     "name": "stderr",
     "output_type": "stream",
     "text": [
      "  0%|                                                                                | 3/10000 [00:00<17:46,  9.38it/s]"
     ]
    },
    {
     "name": "stdout",
     "output_type": "stream",
     "text": [
      "Done\n"
     ]
    },
    {
     "name": "stderr",
     "output_type": "stream",
     "text": [
      "\n"
     ]
    }
   ],
   "source": [
    "# on spécifie les paramètres\n",
    "alpha = 0.19\n",
    "lambda_ = 0.96\n",
    "nb_game = 10000\n",
    "\n",
    "# on spécifie l'environnement\n",
    "env = [\"SRRR\", \n",
    "       \"DRDR\", \n",
    "       \"RRRD\", \n",
    "       \"RDRE\"]\n",
    "\n",
    "# on lance le traitement\n",
    "Q, resultats = play(env, alpha, lambda_, nb_game, first_win=True)\n"
   ]
  },
  {
   "cell_type": "markdown",
   "id": "9e9eb42a",
   "metadata": {},
   "source": [
    "## On affiche les resultats sous la forme d'une :\n",
    "* ### Courbe de récompense par partie\n",
    "* ### Courbe regroupant les récompenses par un nombre de groupe adapté au nombre de partie jouée"
   ]
  },
  {
   "cell_type": "code",
   "execution_count": 81,
   "id": "ffc14e21",
   "metadata": {},
   "outputs": [
    {
     "data": {
      "image/png": "[encoded data removed]",
      "text/plain": [
       "<Figure size 432x288 with 1 Axes>"
      ]
     },
     "metadata": {
      "needs_background": "light"
     },
     "output_type": "display_data"
    },
    {
     "data": {
      "image/png": "[encoded data removed]",
      "text/plain": [
       "<Figure size 432x288 with 1 Axes>"
      ]
     },
     "metadata": {
      "needs_background": "light"
     },
     "output_type": "display_data"
    }
   ],
   "source": [
    "resultats_by_group = show_resultats(resultats)"
   ]
  },
  {
   "cell_type": "markdown",
   "id": "0c0cb8ec",
   "metadata": {},
   "source": [
    "## On affiche l'historique des parties sur un plateau correspondant à l'environnement de jeu"
   ]
  },
  {
   "cell_type": "code",
   "execution_count": 116,
   "id": "497db13a",
   "metadata": {},
   "outputs": [],
   "source": [
    "show_game(env, resultats)"
   ]
  },
  {
   "cell_type": "markdown",
   "id": "520f19d8",
   "metadata": {},
   "source": [
    "## On test notre algorithme sur un environnement plus ambicieux en 5x4"
   ]
  },
  {
   "cell_type": "code",
   "execution_count": 83,
   "id": "76407d33",
   "metadata": {},
   "outputs": [
    {
     "name": "stderr",
     "output_type": "stream",
     "text": [
      "  0%|▏                                                                              | 16/10000 [00:02<26:12,  6.35it/s]\n"
     ]
    },
    {
     "name": "stdout",
     "output_type": "stream",
     "text": [
      "Done\n"
     ]
    },
    {
     "data": {
      "image/png": "[encoded data removed]",
      "text/plain": [
       "<Figure size 432x288 with 1 Axes>"
      ]
     },
     "metadata": {
      "needs_background": "light"
     },
     "output_type": "display_data"
    },
    {
     "data": {
      "image/png": "[encoded data removed]",
      "text/plain": [
       "<Figure size 432x288 with 1 Axes>"
      ]
     },
     "metadata": {
      "needs_background": "light"
     },
     "output_type": "display_data"
    }
   ],
   "source": [
    "# Deuxième test : 5 par 4\n",
    "alpha = 0.19\n",
    "lambda_ = 0.96\n",
    "nb_game = 10000\n",
    "\n",
    "env = [\"SRDRRD\", \n",
    "       \"DRRRDR\", \n",
    "       \"DRDRRR\", \n",
    "       \"RRDRDE\"]\n",
    "\n",
    "# on lance le traitement\n",
    "Q, resultats = play(env, alpha, lambda_, nb_game, first_win=True)\n",
    "resultats_by_group = show_resultats(resultats)\n",
    "show_game(env, resultats)"
   ]
  },
  {
   "cell_type": "markdown",
   "id": "4b06acdb",
   "metadata": {},
   "source": [
    "## On test notre algorithme sur un environnement encore plus ambicieux à taille variable"
   ]
  },
  {
   "cell_type": "code",
   "execution_count": 13,
   "id": "12b7885d",
   "metadata": {},
   "outputs": [
    {
     "name": "stderr",
     "output_type": "stream",
     "text": [
      "  0%|                                                                                | 2/10000 [00:00<13:43, 12.14it/s]"
     ]
    },
    {
     "name": "stdout",
     "output_type": "stream",
     "text": [
      "SRRRRRRDRD\n",
      "RRRRRRRDRR\n",
      "RRDRDRDRRR\n",
      "RRRDRRRRRR\n",
      "DDRRRRDRRR\n",
      "RRRRDDRRRR\n",
      "RRRRRRRRRR\n",
      "RRRRRRRDRR\n",
      "RRDRRRRRDR\n",
      "RRRRRRRRRE\n"
     ]
    },
    {
     "name": "stderr",
     "output_type": "stream",
     "text": [
      "  0%|▏                                                                            | 22/10000 [00:08<1:03:27,  2.62it/s]"
     ]
    },
    {
     "name": "stdout",
     "output_type": "stream",
     "text": [
      "Done\n"
     ]
    },
    {
     "name": "stderr",
     "output_type": "stream",
     "text": [
      "\n"
     ]
    },
    {
     "data": {
      "image/png": "[encoded data removed]",
      "text/plain": [
       "<Figure size 432x288 with 1 Axes>"
      ]
     },
     "metadata": {
      "needs_background": "light"
     },
     "output_type": "display_data"
    },
    {
     "data": {
      "image/png": "[encoded data removed]",
      "text/plain": [
       "<Figure size 432x288 with 1 Axes>"
      ]
     },
     "metadata": {
      "needs_background": "light"
     },
     "output_type": "display_data"
    }
   ],
   "source": [
    "#%% Troisième test : X par X aléatoire\n",
    "alpha = 0.19\n",
    "lambda_ = 0.96\n",
    "nb_game = 10000\n",
    "nb_case = 10\n",
    "\n",
    "env = \"\".join([\"S\"]+[np.random.choice((\"R\",\"D\"), p=[0.8, 0.2]) for i in range(nb_case*nb_case-2)]+[\"E\"])\n",
    "env = [env[i:i+nb_case] for i in range(0, len(env), nb_case)]\n",
    "for n in range(nb_case):\n",
    "    print(env[n])\n",
    "# on lance le traitement si l'environnement convient\n",
    "Q, resultats = play(env, alpha, lambda_, nb_game, first_win=True)\n",
    "resultats_by_group = show_resultats(resultats)\n",
    "show_game(env, resultats)"
   ]
  },
  {
   "cell_type": "markdown",
   "id": "763cb1e1",
   "metadata": {},
   "source": [
    "## J'ai fais plusieurs test que l'on peut recharger pour éviter le temps de traitement"
   ]
  },
  {
   "cell_type": "markdown",
   "id": "c46cdbbe",
   "metadata": {},
   "source": [
    "## On crée les fonctions de sauvegarde et de recharge"
   ]
  },
  {
   "cell_type": "code",
   "execution_count": 5,
   "id": "0ecd7f77",
   "metadata": {},
   "outputs": [],
   "source": [
    "def save_resultats(resultats: pd.DataFrame, Q: pd.DataFrame, env: list, suffix: str):\n",
    "    \"\"\"\n",
    "    Save Resultats\n",
    "    va sauvegarder les resultats du présent test\n",
    "\n",
    "    :param resultats: l'ensemble des coups effectués par l'apprentissage\n",
    "    :type resultats: DataFrame\n",
    "    :param Q: la politique du jeux selon la case et l'action (1 case = 1 ligne | 1 action = 1 colonne)\n",
    "    :type Q: DataFrame\n",
    "    :param env: l'environnement de jeu\n",
    "    :type env: list\n",
    "    :param suffix: le suffix qu'on donne au nom des fichiers de sauvegarde\n",
    "    :type suffix: str\n",
    "    \"\"\"\n",
    "    \n",
    "    # on sauvegarde les resultats au format csv\n",
    "    resultats.to_csv(f\"res/resultats{len(env)}{suffix}.csv\", index=False)\n",
    "    \n",
    "    # on sauvegarde la politique au format csv\n",
    "    Q.to_csv(f\"res/Q{len(env)}{suffix}.csv\", index=False)\n",
    "    \n",
    "    # on sauvegarde l'environnement au format txt\n",
    "    file = open(f\"res/env{len(env)}{suffix}.txt\",\"w\")\n",
    "    # on lui donne un format bien précis pour faciliter la lecture de son utilisateur (format carré)\n",
    "    file.write(\"['\")\n",
    "    for i in range(len(env)):\n",
    "        file.write(env[i])\n",
    "        if i == len(env)-1:\n",
    "            file.write(\"']\")\n",
    "        else:\n",
    "            file.write(\"',\\n '\")\n",
    "    file.close()\n",
    "    \n",
    "    # on affiche la réussite de la sauvegarde\n",
    "    print(f\"Les résultats de l'environnement de taille {len(env)} ont bien été sauvegardés\")\n",
    "    \n",
    "def load_resultats(taille: int, suffix: str):\n",
    "    \"\"\"\n",
    "    Load Resultats\n",
    "    va recharger les resultats de test sauvegardés precedemment\n",
    "\n",
    "    :param taille: la taille de l'environnement que vous voulez recharger\n",
    "    :type taille: int\n",
    "    :param suffix: le suffix qu'on donne au nom des fichiers de sauvegarde\n",
    "    :type suffix: str\n",
    "    :return resultats: l'ensemble des coups effectués par l'apprentissage\n",
    "    :rtype resultats: DataFrame\n",
    "    :return Q: la politique du jeux selon la case et l'action (1 case = 1 ligne | 1 action = 1 colonne)\n",
    "    :rtype Q: DataFrame\n",
    "    :return env: l'environnement de jeu\n",
    "    :rtype env: list\n",
    "    \"\"\"\n",
    "    \n",
    "    # on va lire le csv des resultats\n",
    "    resultats = pd.read_csv(f\"res/resultats{taille}{suffix}.csv\")\n",
    "    \n",
    "    # on va lire le csv de la politique de jeu\n",
    "    Q = pd.read_csv(f\"res/Q{taille}{suffix}.csv\")\n",
    "    \n",
    "    # on va lire le fichier txt dans lequel est conservé l'environnement de jeu\n",
    "    env = open(f\"res/env{taille}{suffix}.txt\").read()[2:-2].replace(\"',\\n '\",\"\")\n",
    "    # on le divise par ligne pour retrouver le format carré de lenvironnement\n",
    "    env = [env[i:i+int(taille)] for i in range(0,len(env), int(taille))]\n",
    "\n",
    "    # on retourne l'historique d'apprentissage, la politique et l'environnement de jeu\n",
    "    return resultats, Q, env"
   ]
  },
  {
   "cell_type": "markdown",
   "id": "144acb54",
   "metadata": {},
   "source": [
    "## On spécifie juste la taille de l'environnement que l'on veut recharger pour afficher ses resultats"
   ]
  },
  {
   "cell_type": "code",
   "execution_count": 11,
   "id": "788181b1",
   "metadata": {},
   "outputs": [
    {
     "data": {
      "image/png": "[encoded data removed]",
      "text/plain": [
       "<Figure size 432x288 with 1 Axes>"
      ]
     },
     "metadata": {
      "needs_background": "light"
     },
     "output_type": "display_data"
    },
    {
     "data": {
      "image/png": "[encoded data removed]",
      "text/plain": [
       "<Figure size 432x288 with 1 Axes>"
      ]
     },
     "metadata": {
      "needs_background": "light"
     },
     "output_type": "display_data"
    }
   ],
   "source": [
    "# A vous de préciser la taille de l'environnement que vous voulez recharger\n",
    "taille = 9\n",
    "# On spécifie le resultats que l'on veut entre \"_first_win\" et \"_all\"\n",
    "suffix = \"_all\"\n",
    "\n",
    "# on récupère l'historique d'apprentissage, la politique et l'environnement de jeu\n",
    "resultats, Q, env = load_resultats(taille, suffix)\n",
    "\n",
    "# on affiche la meilleure action de jeu selon l'état et la politique de jeu entrainée\n",
    "Q.iloc[Q.groupby(\"state\").q_value.idxmax(),:]\n",
    "\n",
    "# on affiche les resultats\n",
    "resultats_by_group = show_resultats(resultats)\n",
    "\n",
    "# on affiche l'historique d'apprentissage sur le plateau de jeu qui convient à l'environnement\n",
    "show_game(env, resultats)"
   ]
  },
  {
   "cell_type": "markdown",
   "id": "a7571be0",
   "metadata": {},
   "source": [
    "## PS : Comment j'ai sauvegardé mes tests rapidement"
   ]
  },
  {
   "cell_type": "code",
   "execution_count": null,
   "id": "fa05a3ec",
   "metadata": {},
   "outputs": [],
   "source": [
    "# for nb_case in range(2,20):\n",
    "    alpha = 0.19\n",
    "    lambda_ = 0.96\n",
    "    nb_game = 5000\n",
    "\n",
    "    env = \"\".join([\"S\"]+[np.random.choice((\"R\",\"D\"), p=[0.8, 0.2]) for i in range(nb_case*nb_case-2)]+[\"E\"])\n",
    "    env = [env[i:i+nb_case] for i in range(0, len(env), nb_case)]\n",
    "    for n in range(nb_case):\n",
    "        print(env[n])\n",
    "    # on lance le traitement si l'environnement convient\n",
    "    Q, resultats = play(env, alpha, lambda_, nb_game, first_win=True)\n",
    "    # on sauvegarde les resultats\n",
    "    save_resultats(resultats, Q, env, \"_first_win\")\n",
    "    \n",
    "    show_resultats(resultats)"
   ]
  },
  {
   "cell_type": "code",
   "execution_count": null,
   "id": "2d0ae664",
   "metadata": {},
   "outputs": [],
   "source": [
    "# for nb_case in range(2,10):\n",
    "    alpha = 0.19\n",
    "    lambda_ = 0.96\n",
    "    nb_game = 5000\n",
    "\n",
    "    env = \"\".join([\"S\"]+[np.random.choice((\"R\",\"D\"), p=[0.8, 0.2]) for i in range(nb_case*nb_case-2)]+[\"E\"])\n",
    "    env = [env[i:i+nb_case] for i in range(0, len(env), nb_case)]\n",
    "    for n in range(nb_case):\n",
    "        print(env[n])\n",
    "    # on lance le traitement si l'environnement convient\n",
    "    Q, resultats = play(env, alpha, lambda_, nb_game, first_win=False)\n",
    "    # on sauvegarde les resultats\n",
    "    save_resultats(resultats, Q, env, \"_all\")\n",
    "    \n",
    "    show_resultats(resultats)"
   ]
  }
 ],
 "metadata": {
  "kernelspec": {
   "display_name": "Python 3",
   "language": "python",
   "name": "python3"
  },
  "language_info": {
   "codemirror_mode": {
    "name": "ipython",
    "version": 3
   },
   "file_extension": ".py",
   "mimetype": "text/x-python",
   "name": "python",
   "nbconvert_exporter": "python",
   "pygments_lexer": "ipython3",
   "version": "3.8.8"
  }
 },
 "nbformat": 4,
 "nbformat_minor": 5
}
